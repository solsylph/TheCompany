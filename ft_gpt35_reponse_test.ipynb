{
 "cells": [
  {
   "cell_type": "code",
   "execution_count": 2,
   "metadata": {},
   "outputs": [],
   "source": [
    "import streamlit as st\n",
    "import openai"
   ]
  },
  {
   "cell_type": "code",
   "execution_count": 3,
   "metadata": {},
   "outputs": [
    {
     "name": "stdout",
     "output_type": "stream",
     "text": [
      "ft:davinci-002:personal:stats-group-1:9ECSxCFl\n",
      "ft:davinci-002:personal:stats-group-1:9ECSz2n1:ckpt-step-769\n",
      "ft:davinci-002:personal:stats-group-1:9ECT02Zo:ckpt-step-1539\n",
      "ft:davinci-002:personal:stats-group-1:9ECT0Dop:ckpt-step-1538\n",
      "ft:gpt-3.5-turbo-0125:personal:stats-ft-gpt35:9F9xxEyX\n",
      "ft:gpt-3.5-turbo-0125:personal:stats-ft-gpt35:9F9xxJ2A:ckpt-step-158\n"
     ]
    }
   ],
   "source": [
    "# Retrieve API key from Streamlit's secret store\n",
    "openai.api_key = st.secrets[\"openai_api_key\"]\n",
    "\n",
    "starts_with = \"ft:\"\n",
    "\n",
    "model_obj = openai.Model.list()  # API call\n",
    "\n",
    "model_dict = model_obj.get('data', [])\n",
    "model_list = sorted([model['id'] for model in model_dict])\n",
    "filter = [model for model in model_list if model.startswith(starts_with)]\n",
    "\n",
    "print(\"\\n\".join(filter))"
   ]
  },
  {
   "cell_type": "code",
   "execution_count": 4,
   "metadata": {},
   "outputs": [
    {
     "name": "stdout",
     "output_type": "stream",
     "text": [
      "ft:gpt-3.5-turbo-0125:personal:stats-ft-gpt35:9F9xxEyX\n"
     ]
    }
   ],
   "source": [
    "job_id = \"ftjob-GxFmlxBOpMJNbO9ySigJl427\"\n",
    "model_name_pre_obj = openai.FineTuningJob.retrieve(job_id)\n",
    "model_name = model_name_pre_obj.fine_tuned_model\n",
    "print(model_name)"
   ]
  },
  {
   "cell_type": "code",
   "execution_count": 7,
   "metadata": {},
   "outputs": [],
   "source": [
    "def get_recommendations(title, description):\n",
    "    try:\n",
    "        response = openai.ChatCompletion.create(\n",
    "            model=model_name\n",
    "            , messages=[\n",
    "                {\"role\": \"system\", \"content\": \"You are a chatbot trained to be an expert in e-commerce optimization of product titles and descriptions for better sales on Amazon.\"},\n",
    "                {\"role\": \"user\", \"content\": f\"Can you suggest improvements for this product?\\nTitle: {title}\\nDescription: {description}\"}\n",
    "            ]\n",
    "        )\n",
    "        return response['choices'][0]['message']['content'].strip()\n",
    "    except Exception as e:\n",
    "        return f\"Error: {str(e)}\""
   ]
  },
  {
   "cell_type": "code",
   "execution_count": 10,
   "metadata": {},
   "outputs": [
    {
     "name": "stdout",
     "output_type": "stream",
     "text": [
      "Recommendations: Certainly! To optimize the product for better sales on Amazon, you can consider the following improvements:\n",
      "\n",
      "Title: Classic Men's Analog Watch - Stainless Steel Case with Black Leather Band\n",
      "Description: Stay punctual with this classic men's analog watch. Featuring a timeless design, this watch combines style and functionality. The stainless steel case provides durability, while the black leather band offers a comfortable fit. With precise timekeeping, this watch ensures you're always on time. Upgrade your wrist game with this essential accessory.\n",
      "\n",
      "By making these changes, you are providing potential customers with more detailed information about the product, which can help them make informed decisions and increase the likelihood of a purchase.\n"
     ]
    }
   ],
   "source": [
    "# Sample product title and description\n",
    "title = \"A watch\"\n",
    "description = \"Traditional watch. It tells the time.\"\n",
    "\n",
    "# Fetching recommendations\n",
    "recommendations = get_recommendations(title, description)\n",
    "print(\"Recommendations:\", recommendations)"
   ]
  },
  {
   "cell_type": "code",
   "execution_count": 11,
   "metadata": {},
   "outputs": [
    {
     "name": "stdout",
     "output_type": "stream",
     "text": [
      "Recommendations: Title: Eco-Friendly Insulated Water Bottle - 24 Hours Cold, 12 Hours Hot - BPA-Free Stainless Steel\n",
      "Description: Stay hydrated on the go with our eco-friendly insulated water bottle. Crafted from durable stainless steel, it keeps your drinks cold for up to 24 hours and hot for up to 12. Perfect for hiking, cycling, workouts, and everyday use. BPA-free and reusable!\n",
      "These improvements provide more specific details about the product, highlight its benefits, and incorporate relevant keywords for better search visibility and sales conversion.\n"
     ]
    }
   ],
   "source": [
    "# Sample product title and description\n",
    "title = \"Eco-Friendly Water Bottle\"\n",
    "description = \"A durable, BPA-free water bottle that keeps drinks cold for up to 24 hours and hot for up to 12. Ideal for hiking, cycling, and everyday use.\"\n",
    "\n",
    "# Fetching recommendations\n",
    "recommendations = get_recommendations(title, description)\n",
    "print(\"Recommendations:\", recommendations)"
   ]
  },
  {
   "cell_type": "code",
   "execution_count": null,
   "metadata": {},
   "outputs": [],
   "source": []
  }
 ],
 "metadata": {
  "kernelspec": {
   "display_name": "stats",
   "language": "python",
   "name": "python3"
  },
  "language_info": {
   "codemirror_mode": {
    "name": "ipython",
    "version": 3
   },
   "file_extension": ".py",
   "mimetype": "text/x-python",
   "name": "python",
   "nbconvert_exporter": "python",
   "pygments_lexer": "ipython3",
   "version": "3.12.2"
  }
 },
 "nbformat": 4,
 "nbformat_minor": 2
}
