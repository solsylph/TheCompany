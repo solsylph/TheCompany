{
 "cells": [
  {
   "cell_type": "code",
   "execution_count": 1,
   "metadata": {},
   "outputs": [],
   "source": [
    "import streamlit as st\n",
    "import openai"
   ]
  },
  {
   "cell_type": "code",
   "execution_count": 2,
   "metadata": {},
   "outputs": [
    {
     "name": "stdout",
     "output_type": "stream",
     "text": [
      "ft:davinci-002:personal:stats-group-1:9ECSxCFl\n",
      "ft:davinci-002:personal:stats-group-1:9ECSz2n1:ckpt-step-769\n",
      "ft:davinci-002:personal:stats-group-1:9ECT02Zo:ckpt-step-1539\n",
      "ft:davinci-002:personal:stats-group-1:9ECT0Dop:ckpt-step-1538\n",
      "ft:gpt-3.5-turbo-0125:personal:stats-ft-gpt35:9F9xxEyX\n",
      "ft:gpt-3.5-turbo-0125:personal:stats-ft-gpt35:9F9xxJ2A:ckpt-step-158\n"
     ]
    }
   ],
   "source": [
    "# Retrieve API key from Streamlit's secret store\n",
    "openai.api_key = st.secrets[\"openai_api_key\"]\n",
    "\n",
    "starts_with = \"ft:\"\n",
    "\n",
    "model_obj = openai.Model.list()  # API call\n",
    "\n",
    "model_dict = model_obj.get('data', [])\n",
    "model_list = sorted([model['id'] for model in model_dict])\n",
    "filter = [model for model in model_list if model.startswith(starts_with)]\n",
    "\n",
    "print(\"\\n\".join(filter))"
   ]
  },
  {
   "cell_type": "code",
   "execution_count": 3,
   "metadata": {},
   "outputs": [
    {
     "name": "stdout",
     "output_type": "stream",
     "text": [
      "ft:davinci-002:personal:stats-group-1:9ECSxCFl\n"
     ]
    }
   ],
   "source": [
    "job_id = \"ftjob-6Dkhm6OC9YCPvZLY9mXCoHMr\"\n",
    "model_name_pre_obj = openai.FineTuningJob.retrieve(job_id)\n",
    "model_name = model_name_pre_obj.fine_tuned_model\n",
    "print(model_name)"
   ]
  },
  {
   "cell_type": "code",
   "execution_count": 13,
   "metadata": {},
   "outputs": [
    {
     "name": "stdout",
     "output_type": "stream",
     "text": [
      "1.Natural Watch Watch Watch, Amazon.1, Natural Watch, Amazon, Amazon, Amazon, Amazon, Amazon, Amazon, Amazon, Amazon, Amazon, Amazon, Amazon, Amazon, Amazon, Amazon, Amazon, Amazon, Amazon, Amazon, Amazon, Amazon, Amazon, Amazon, Amazon, Amazon, Amazon, Amazon, Amazon, Amazon, Amazon, Amazon, Amazon, Amazon, Amazon, Amazon, Amazon, Amazon, Amazon, Amazon, Amazon, Amazon, Amazon, Amazon, Amazon,\n"
     ]
    }
   ],
   "source": [
    "# Define product details\n",
    "product_title = \"A watch\"\n",
    "product_description = \"Traditional watch. It tells the time.\"\n",
    "\n",
    "# Create the prompt\n",
    "prompt = f\"You are an expert in e-commerce optimization. Provide detailed feedback on how to improve the product listings to increase sales on Amazon.\\n\\nTitle: {product_title}\\nDescription: {product_description}\\nHow can I improve this listing to sell more on Amazon?\"\n",
    "\n",
    "# Generate the completion\n",
    "response = openai.Completion.create(\n",
    "    model=model_name\n",
    "    , prompt=prompt\n",
    "    , max_tokens=100\n",
    "    , temperature=0.5\n",
    "    , stop=[\"\\n\"]\n",
    ")\n",
    "\n",
    "print(response.choices[0].text.strip())"
   ]
  },
  {
   "cell_type": "code",
   "execution_count": null,
   "metadata": {},
   "outputs": [],
   "source": []
  }
 ],
 "metadata": {
  "kernelspec": {
   "display_name": "stats",
   "language": "python",
   "name": "python3"
  },
  "language_info": {
   "codemirror_mode": {
    "name": "ipython",
    "version": 3
   },
   "file_extension": ".py",
   "mimetype": "text/x-python",
   "name": "python",
   "nbconvert_exporter": "python",
   "pygments_lexer": "ipython3",
   "version": "3.12.2"
  }
 },
 "nbformat": 4,
 "nbformat_minor": 2
}
